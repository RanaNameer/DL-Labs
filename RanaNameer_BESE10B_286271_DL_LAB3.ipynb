{
  "cells": [
    {
      "cell_type": "markdown",
      "metadata": {
        "id": "pKtO_ysSTS7D"
      },
      "source": [
        "Name: Rana Nameer Hussain Khan\n",
        "\n",
        "Class: BESE 10-B\n",
        "\n",
        "CMS ID: 286271\n",
        "\n",
        "Course: CS-405 Deep Learning"
      ]
    },
    {
      "cell_type": "markdown",
      "metadata": {
        "id": "To55fZkl_xXt"
      },
      "source": [
        "Most machine learning workflows involve working with data, creating models, optimizing model parameters, and saving the trained models. This tutorial introduces you to a complete ML workflow implemented in PyTorch covering all these steps."
      ]
    },
    {
      "cell_type": "markdown",
      "metadata": {
        "id": "oiwgwZT4I9Yy"
      },
      "source": [
        "# Submit a lab report containing codes, screenshots of output and tables for comparision of accuracies for both task 1 and task2 (for both datasets) with your name and registration number at the top."
      ]
    },
    {
      "cell_type": "code",
      "execution_count": null,
      "metadata": {
        "collapsed": true,
        "id": "RkS7oENV_tPJ"
      },
      "outputs": [],
      "source": [
        "import torch\n",
        "from torch import nn\n",
        "from torch.utils.data import DataLoader\n",
        "from torchvision import datasets\n",
        "from torchvision.transforms import ToTensor\n",
        "import matplotlib.pyplot as plt\n",
        "import random\n",
        "import numpy as np\n",
        "import time"
      ]
    },
    {
      "cell_type": "markdown",
      "metadata": {
        "id": "40DkoQ8grGu1"
      },
      "source": [
        "Check if GPU is available."
      ]
    },
    {
      "cell_type": "code",
      "execution_count": null,
      "metadata": {
        "colab": {
          "base_uri": "https://localhost:8080/"
        },
        "id": "jwmL4UIAdEwP",
        "outputId": "b23cd787-1716-430a-bf22-3e3b8c15d786"
      },
      "outputs": [
        {
          "name": "stdout",
          "output_type": "stream",
          "text": [
            "<== CUDA availability : ==> True\n"
          ]
        }
      ],
      "source": [
        "use_cuda = torch.cuda.is_available()\n",
        "device = torch.device(\"cuda\" if use_cuda else \"cpu\")\n",
        "print ('<== CUDA availability : ==>', use_cuda)"
      ]
    },
    {
      "cell_type": "markdown",
      "metadata": {
        "id": "KetqVm4erSUw"
      },
      "source": [
        "Set seed for repreoducability."
      ]
    },
    {
      "cell_type": "code",
      "execution_count": null,
      "metadata": {
        "collapsed": true,
        "id": "mOG06vbU-IM0"
      },
      "outputs": [],
      "source": [
        "def set_seeds(seed):\n",
        "    torch.backends.cudnn.benchmark = False\n",
        "    torch.backends.cudnn.determinictic = True\n",
        "    torch.cuda.manual_seed_all(seed)\n",
        "    np.random.seed(seed)\n",
        "    torch.manual_seed(seed)\n",
        "    random.seed(seed)\n",
        "set_seeds(42)"
      ]
    },
    {
      "cell_type": "markdown",
      "metadata": {
        "id": "0rRdAkvlrZBW"
      },
      "source": [
        "PyTorch offers domain-specific libraries such as TorchText, TorchVision, and TorchAudio, all of which include datasets. For this lab, we will be using a TorchVision dataset. Load one of the prebuilt datasets from pytorch repository. Currently, we are not using any transform (manipulation) on input data. We are just converting each image to tensor.\n"
      ]
    },
    {
      "cell_type": "code",
      "execution_count": null,
      "metadata": {
        "colab": {
          "base_uri": "https://localhost:8080/"
        },
        "collapsed": true,
        "id": "XJ3EHXcWdU1c",
        "outputId": "91eb6dcd-4d90-44ac-f46b-26d6136adf7b"
      },
      "outputs": [
        {
          "name": "stdout",
          "output_type": "stream",
          "text": [
            "Downloading http://yann.lecun.com/exdb/mnist/train-images-idx3-ubyte.gz\n",
            "Downloading http://yann.lecun.com/exdb/mnist/train-images-idx3-ubyte.gz to data/MNIST/raw/train-images-idx3-ubyte.gz\n"
          ]
        },
        {
          "name": "stderr",
          "output_type": "stream",
          "text": [
            "100%|██████████| 9912422/9912422 [00:00<00:00, 191462556.62it/s]"
          ]
        },
        {
          "name": "stdout",
          "output_type": "stream",
          "text": [
            "Extracting data/MNIST/raw/train-images-idx3-ubyte.gz to data/MNIST/raw\n"
          ]
        },
        {
          "name": "stderr",
          "output_type": "stream",
          "text": [
            "\n"
          ]
        },
        {
          "name": "stdout",
          "output_type": "stream",
          "text": [
            "\n",
            "Downloading http://yann.lecun.com/exdb/mnist/train-labels-idx1-ubyte.gz\n",
            "Downloading http://yann.lecun.com/exdb/mnist/train-labels-idx1-ubyte.gz to data/MNIST/raw/train-labels-idx1-ubyte.gz\n"
          ]
        },
        {
          "name": "stderr",
          "output_type": "stream",
          "text": [
            "100%|██████████| 28881/28881 [00:00<00:00, 15390127.53it/s]\n"
          ]
        },
        {
          "name": "stdout",
          "output_type": "stream",
          "text": [
            "Extracting data/MNIST/raw/train-labels-idx1-ubyte.gz to data/MNIST/raw\n",
            "\n",
            "Downloading http://yann.lecun.com/exdb/mnist/t10k-images-idx3-ubyte.gz\n",
            "Downloading http://yann.lecun.com/exdb/mnist/t10k-images-idx3-ubyte.gz to data/MNIST/raw/t10k-images-idx3-ubyte.gz\n"
          ]
        },
        {
          "name": "stderr",
          "output_type": "stream",
          "text": [
            "100%|██████████| 1648877/1648877 [00:00<00:00, 77268212.91it/s]\n"
          ]
        },
        {
          "name": "stdout",
          "output_type": "stream",
          "text": [
            "Extracting data/MNIST/raw/t10k-images-idx3-ubyte.gz to data/MNIST/raw\n",
            "\n",
            "Downloading http://yann.lecun.com/exdb/mnist/t10k-labels-idx1-ubyte.gz\n",
            "Downloading http://yann.lecun.com/exdb/mnist/t10k-labels-idx1-ubyte.gz to data/MNIST/raw/t10k-labels-idx1-ubyte.gz\n"
          ]
        },
        {
          "name": "stderr",
          "output_type": "stream",
          "text": [
            "100%|██████████| 4542/4542 [00:00<00:00, 5439899.71it/s]"
          ]
        },
        {
          "name": "stdout",
          "output_type": "stream",
          "text": [
            "Extracting data/MNIST/raw/t10k-labels-idx1-ubyte.gz to data/MNIST/raw\n",
            "\n"
          ]
        },
        {
          "name": "stderr",
          "output_type": "stream",
          "text": [
            "\n"
          ]
        }
      ],
      "source": [
        "training_data = datasets.MNIST(\n",
        "    root=\"data\",\n",
        "    train=True,\n",
        "    download=True,\n",
        "    transform=ToTensor(),\n",
        ")\n",
        "\n",
        "# Download test data from open datasets.\n",
        "test_data = datasets.MNIST(\n",
        "    root=\"data\",\n",
        "    train=False,\n",
        "    download=True,\n",
        "    transform=ToTensor(),\n",
        ")"
      ]
    },
    {
      "cell_type": "markdown",
      "metadata": {
        "id": "IVkvzCgsrv4J"
      },
      "source": [
        "Visualise some of the input images."
      ]
    },
    {
      "cell_type": "code",
      "execution_count": null,
      "metadata": {
        "colab": {
          "base_uri": "https://localhost:8080/",
          "height": 675
        },
        "id": "WtSrzX_RoC4M",
        "outputId": "3b236ae5-e0e1-4f4c-b9a4-d84a4bbabf41"
      },
      "outputs": [
        {
          "data": {
            "image/png": "[encoded data removed]",
            "text/plain": [
              "<Figure size 800x800 with 9 Axes>"
            ]
          },
          "metadata": {},
          "output_type": "display_data"
        }
      ],
      "source": [
        "labels_map = {\n",
        "    0: \"zero\",\n",
        "    1: \"one\",\n",
        "    2: \"two\",\n",
        "    3: \"three\",\n",
        "    4: \"four\",\n",
        "    5: \"five\",\n",
        "    6: \"six\",\n",
        "    7: \"seven\",\n",
        "    8: \"eight\",\n",
        "    9: \"nine\",\n",
        "}\n",
        "figure = plt.figure(figsize=(8, 8))\n",
        "cols, rows = 3, 3\n",
        "for i in range(1, cols * rows + 1):\n",
        "    sample_idx = torch.randint(len(training_data), size=(1,)).item()  # randomly pick indices from the training data\n",
        "    img, label = training_data[sample_idx]                            # Read the images using their indices.\n",
        "    figure.add_subplot(rows, cols, i)\n",
        "    plt.title(labels_map[label])\n",
        "    plt.axis(\"off\")\n",
        "    plt.imshow(img.squeeze(), cmap=\"gray\")\n",
        "plt.show()"
      ]
    },
    {
      "cell_type": "markdown",
      "metadata": {
        "id": "Ab2BgCNEsXrF"
      },
      "source": [
        "Check the size and shape of training and validation data."
      ]
    },
    {
      "cell_type": "code",
      "execution_count": null,
      "metadata": {
        "colab": {
          "base_uri": "https://localhost:8080/"
        },
        "id": "OIIl0TeGpIFc",
        "outputId": "709c7c23-8ac5-4889-95f1-2fa6ec9b5b92"
      },
      "outputs": [
        {
          "name": "stderr",
          "output_type": "stream",
          "text": [
            "/usr/local/lib/python3.10/dist-packages/numpy/core/fromnumeric.py:2007: FutureWarning: The input object of type 'Tensor' is an array-like implementing one of the corresponding protocols (`__array__`, `__array_interface__` or `__array_struct__`); but not a sequence (or 0-D). In the future, this object will be coerced as if it was first converted using `np.array(obj)`. To retain the old behaviour, you have to either modify the type 'Tensor', or assign to an empty array created with `np.empty(correct_shape, dtype=object)`.\n",
            "  result = asarray(a).shape\n",
            "/usr/local/lib/python3.10/dist-packages/numpy/core/fromnumeric.py:2007: VisibleDeprecationWarning: Creating an ndarray from ragged nested sequences (which is a list-or-tuple of lists-or-tuples-or ndarrays with different lengths or shapes) is deprecated. If you meant to do this, you must specify 'dtype=object' when creating the ndarray.\n",
            "  result = asarray(a).shape\n"
          ]
        },
        {
          "name": "stdout",
          "output_type": "stream",
          "text": [
            "Shape of Training Data (60000, 2)\n",
            "Shape of Test Data (10000, 2)\n"
          ]
        }
      ],
      "source": [
        "print ('Shape of Training Data', np.shape(training_data))\n",
        "print ('Shape of Test Data', np.shape(test_data))"
      ]
    },
    {
      "cell_type": "markdown",
      "metadata": {
        "id": "op8bXLMWsWZW"
      },
      "source": [
        "Now pass the Dataset as an argument to DataLoader. This wraps an iterable over our dataset, and supports automatic batching, sampling, shuffling and multiprocess data loading. Here we define a batch size of 64, i.e. each element in the dataloader iterable will return a batch of 64 features and labels."
      ]
    },
    {
      "cell_type": "code",
      "execution_count": null,
      "metadata": {
        "colab": {
          "base_uri": "https://localhost:8080/"
        },
        "id": "PBHnky5-deQT",
        "outputId": "777d6c13-648b-42c0-a01a-9441315f6129"
      },
      "outputs": [
        {
          "name": "stdout",
          "output_type": "stream",
          "text": [
            "Shape of X [N, C, H, W]: torch.Size([64, 1, 28, 28])\n",
            "Shape of y: torch.Size([64]) torch.int64\n"
          ]
        }
      ],
      "source": [
        "batch_size = 64\n",
        "\n",
        "# Create data loaders.\n",
        "train_dataloader = DataLoader(training_data, batch_size=batch_size)\n",
        "test_dataloader = DataLoader(test_data, batch_size=batch_size)\n",
        "\n",
        "for X, y in test_dataloader:\n",
        "    print(f\"Shape of X [N, C, H, W]: {X.shape}\")\n",
        "    print(f\"Shape of y: {y.shape} {y.dtype}\")\n",
        "    break"
      ]
    },
    {
      "cell_type": "markdown",
      "metadata": {
        "id": "dQ-D7Ky7tbIJ"
      },
      "source": [
        "To define a neural network in PyTorch, we create a class that inherits from nn.Module. We define the layers of the network in the __init__ function and specify how data will pass through the network in the forward function. To accelerate operations in the neural network, we move it to the GPU if available."
      ]
    },
    {
      "cell_type": "code",
      "execution_count": null,
      "metadata": {
        "colab": {
          "base_uri": "https://localhost:8080/"
        },
        "id": "A4DenYqBdtsb",
        "outputId": "c33f6eeb-c6b8-4089-fc90-2facd227a443"
      },
      "outputs": [
        {
          "name": "stdout",
          "output_type": "stream",
          "text": [
            "NeuralNetwork(\n",
            "  (flatten): Flatten(start_dim=1, end_dim=-1)\n",
            "  (linear_relu_stack): Sequential(\n",
            "    (0): Linear(in_features=784, out_features=256, bias=True)\n",
            "    (1): ReLU()\n",
            "    (2): Linear(in_features=256, out_features=256, bias=True)\n",
            "    (3): ReLU()\n",
            "    (4): Linear(in_features=256, out_features=10, bias=True)\n",
            "  )\n",
            ")\n"
          ]
        }
      ],
      "source": [
        "# Define model\n",
        "class NeuralNetwork(nn.Module):\n",
        "    def __init__(self):\n",
        "        super(NeuralNetwork, self).__init__()\n",
        "        self.flatten = nn.Flatten()\n",
        "        self.linear_relu_stack = nn.Sequential(\n",
        "            nn.Linear(28*28, 256),\n",
        "            nn.ReLU(),\n",
        "            nn.Linear(256, 256),\n",
        "            nn.ReLU(),\n",
        "            nn.Linear(256, 10)\n",
        "        )\n",
        "\n",
        "    def forward(self, x):\n",
        "        x = self.flatten(x)\n",
        "        logits = self.linear_relu_stack(x)\n",
        "        return logits\n",
        "\n",
        "model = NeuralNetwork().to(device)\n",
        "print(model)"
      ]
    },
    {
      "cell_type": "code",
      "execution_count": null,
      "metadata": {
        "id": "cQWbKtjooGxH"
      },
      "outputs": [],
      "source": [
        "# Define model\n",
        "class NeuralNetwork(nn.Module):\n",
        "    def __init__(self):\n",
        "        super(NeuralNetwork, self).__init__()\n",
        "        self.flatten = nn.Flatten()\n",
        "        self.linear_relu_stack = nn.Sequential(\n",
        "            nn.Linear(28*28, 512),\n",
        "            nn.ReLU(),\n",
        "            nn.Linear(512, 256),\n",
        "            nn.ReLU(),\n",
        "            nn.Linear(256, 10)\n",
        "        )\n",
        "\n",
        "    def forward(self, x):\n",
        "        x = self.flatten(x)\n",
        "        logits = self.linear_relu_stack(x)\n",
        "        return logits\n",
        "\n",
        "model = NeuralNetwork().to(device)\n",
        "print(model)"
      ]
    },
    {
      "cell_type": "code",
      "execution_count": null,
      "metadata": {
        "colab": {
          "base_uri": "https://localhost:8080/"
        },
        "id": "WqE_9GMBow4y",
        "outputId": "83968452-2ccd-4955-fe63-0ffd8d408fde"
      },
      "outputs": [
        {
          "name": "stdout",
          "output_type": "stream",
          "text": [
            "NeuralNetwork(\n",
            "  (flatten): Flatten(start_dim=1, end_dim=-1)\n",
            "  (linear_relu_stack): Sequential(\n",
            "    (0): Linear(in_features=784, out_features=128, bias=True)\n",
            "    (1): ReLU()\n",
            "    (2): Linear(in_features=128, out_features=256, bias=True)\n",
            "    (3): ReLU()\n",
            "    (4): Linear(in_features=256, out_features=10, bias=True)\n",
            "  )\n",
            ")\n"
          ]
        }
      ],
      "source": [
        "# Define model\n",
        "class NeuralNetwork(nn.Module):\n",
        "    def __init__(self):\n",
        "        super(NeuralNetwork, self).__init__()\n",
        "        self.flatten = nn.Flatten()\n",
        "        self.linear_relu_stack = nn.Sequential(\n",
        "            nn.Linear(28*28, 128),\n",
        "            nn.ReLU(),\n",
        "            nn.Linear(128, 256),\n",
        "            nn.ReLU(),\n",
        "            nn.Linear(256, 10)\n",
        "        )\n",
        "\n",
        "    def forward(self, x):\n",
        "        x = self.flatten(x)\n",
        "        logits = self.linear_relu_stack(x)\n",
        "        return logits\n",
        "\n",
        "model = NeuralNetwork().to(device)\n",
        "print(model)"
      ]
    },
    {
      "cell_type": "markdown",
      "metadata": {
        "id": "a2Qg9UFhtoz9"
      },
      "source": [
        "# Q#1You may change the width of each layer from 128 to 256 and 512 and observe the difference in network performance. Also, try adding and removing layers. Keeping all other setup the same, how does the netowrk behave with the change in depth (number of layers) and width (size of each layer)?\n",
        "\n",
        "Now define the loss function and set up optimiser."
      ]
    },
    {
      "cell_type": "code",
      "execution_count": null,
      "metadata": {
        "collapsed": true,
        "id": "_cJDd0k0dz6F"
      },
      "outputs": [],
      "source": [
        "loss_fn = nn.CrossEntropyLoss()\n",
        "optimizer = torch.optim.SGD(model.parameters(), lr=1e-3 )"
      ]
    },
    {
      "cell_type": "code",
      "execution_count": null,
      "metadata": {
        "id": "YKxzRz_6rMS5"
      },
      "outputs": [],
      "source": [
        "loss_fn = nn.CrossEntropyLoss()\n",
        "optimizer = torch.optim.Adam(model.parameters(), lr=1e-3 )"
      ]
    },
    {
      "cell_type": "markdown",
      "metadata": {
        "id": "yH0-ep8JuIxq"
      },
      "source": [
        "# Q#2: Try momentum with value 0.5 and 0.9. Try Adam optimizer instead of SGD (without momentum). How the learning process changes?\n",
        "\n",
        "Define train function."
      ]
    },
    {
      "cell_type": "code",
      "execution_count": null,
      "metadata": {
        "collapsed": true,
        "id": "wUaNY59Td46x"
      },
      "outputs": [],
      "source": [
        "def train(dataloader, model, loss_fn, optimizer):\n",
        "    size = len(dataloader.dataset)\n",
        "    model.train()\n",
        "    running_loss = 0                            # accumuate loss of each input sample\n",
        "    for batch, (X, y) in enumerate(dataloader):\n",
        "        X, y = X.to(device), y.to(device)       # assign input samples to the available device (CPU or GPU) for computation.\n",
        "\n",
        "        # Compute prediction error\n",
        "        pred = model(X)\n",
        "        loss = loss_fn(pred, y)\n",
        "\n",
        "        # Backpropagation\n",
        "        optimizer.zero_grad()                   # set the gradients to zero to avoid gradient accumuation. Gradient Accumulation is useful in some cases, like in training RNN.\n",
        "        loss.backward()\n",
        "        optimizer.step()\n",
        "        running_loss += loss.item()\n",
        "        if batch % 100 == 0:\n",
        "            loss, current = loss.item(), batch * len(X)\n",
        "            #print(f\"training loss: {loss:>7f}  [{current:>5d}/{size:>5d}]\")\n",
        "\n",
        "    return running_loss/len(dataloader)"
      ]
    },
    {
      "cell_type": "markdown",
      "metadata": {
        "id": "5rzoSK6-wZmn"
      },
      "source": [
        "Define evaluation function."
      ]
    },
    {
      "cell_type": "code",
      "execution_count": null,
      "metadata": {
        "collapsed": true,
        "id": "I5DNOqJTd-Tl"
      },
      "outputs": [],
      "source": [
        "def test(dataloader, model, loss_fn):\n",
        "    size = len(dataloader.dataset)\n",
        "    num_batches = len(dataloader)\n",
        "    model.eval()\n",
        "    test_loss, correct = 0, 0\n",
        "    with torch.no_grad():         # No gradients need to be calculated for evaluation. Just the forward pass.\n",
        "        for X, y in dataloader:\n",
        "            X, y = X.to(device), y.to(device)\n",
        "            pred = model(X)\n",
        "            test_loss += loss_fn(pred, y).item()\n",
        "            correct += (pred.argmax(1) == y).type(torch.float).sum().item()\n",
        "    test_loss /= num_batches\n",
        "    correct /= size               # Normalise correctly classified count.\n",
        "    print(f\"test loss: \\nAccuracy: {(100*correct):>0.1f}%, avg loss: {test_loss:>8f} \\n\")\n",
        "\n",
        "    return test_loss"
      ]
    },
    {
      "cell_type": "markdown",
      "metadata": {
        "id": "qqqLOBWPwz0Z"
      },
      "source": [
        "Initiate Training Process"
      ]
    },
    {
      "cell_type": "code",
      "execution_count": null,
      "metadata": {
        "colab": {
          "base_uri": "https://localhost:8080/",
          "height": 956
        },
        "id": "4No_AhMkeEJ6",
        "outputId": "b8304113-5f33-4880-be98-06b2c6ec73b9"
      },
      "outputs": [
        {
          "name": "stdout",
          "output_type": "stream",
          "text": [
            "Epoch 1\n",
            "-------------------------------\n",
            "test loss: \n",
            "Accuracy: 70.7%, avg loss: 1.464781 \n",
            "\n",
            "Epoch 2\n",
            "-------------------------------\n",
            "test loss: \n",
            "Accuracy: 77.6%, avg loss: 1.176875 \n",
            "\n",
            "Epoch 3\n",
            "-------------------------------\n",
            "test loss: \n",
            "Accuracy: 80.7%, avg loss: 0.960559 \n",
            "\n",
            "Epoch 4\n",
            "-------------------------------\n",
            "test loss: \n",
            "Accuracy: 82.4%, avg loss: 0.811913 \n",
            "\n",
            "Epoch 5\n",
            "-------------------------------\n",
            "test loss: \n",
            "Accuracy: 83.7%, avg loss: 0.708900 \n",
            "\n",
            "Elapsed time:  {53.3465473651886}\n",
            "Done!\n"
          ]
        },
        {
          "data": {
            "image/png": "[encoded data removed]",
            "text/plain": [
              "<Figure size 1000x500 with 1 Axes>"
            ]
          },
          "metadata": {},
          "output_type": "display_data"
        }
      ],
      "source": [
        "epochs = 5 # (Try 5, 50 and 100 epoch and record values for average validation loss and accuracy)\n",
        "train_losses = []\n",
        "test_losses = []\n",
        "\n",
        "st = time.time()\n",
        "for t in range(epochs):\n",
        "    print(f\"Epoch {t+1}\\n-------------------------------\")\n",
        "\n",
        "    train_loss = train(train_dataloader, model, loss_fn, optimizer)\n",
        "    train_losses.append(train_loss)\n",
        "\n",
        "    test_loss = test(test_dataloader, model, loss_fn)\n",
        "    test_losses.append(test_loss)\n",
        "\n",
        "et = time.time()\n",
        "elapsed_time = et - st\n",
        "print(\"Elapsed time: \", {elapsed_time})\n",
        "print(\"Done!\")\n",
        "\n",
        "# Plot training and validation losses.\n",
        "plt.figure(figsize=(10,5))\n",
        "plt.title(\"Training and Validation Loss\")\n",
        "plt.plot(test_losses,label=\"validation\")\n",
        "plt.plot(train_losses,label=\"training\")\n",
        "plt.xlabel(\"Epochs\")\n",
        "plt.ylabel(\"Loss\")\n",
        "plt.legend()\n",
        "plt.show()"
      ]
    },
    {
      "cell_type": "code",
      "execution_count": null,
      "metadata": {
        "colab": {
          "base_uri": "https://localhost:8080/",
          "height": 1000
        },
        "id": "XrLaoHA-sNAg",
        "outputId": "8a8cf49b-7bff-4c25-bc28-73cb5c189e2c"
      },
      "outputs": [
        {
          "name": "stdout",
          "output_type": "stream",
          "text": [
            "Epoch 1\n",
            "-------------------------------\n",
            "test loss: \n",
            "Accuracy: 84.8%, avg loss: 0.635012 \n",
            "\n",
            "Epoch 2\n",
            "-------------------------------\n",
            "test loss: \n",
            "Accuracy: 85.7%, avg loss: 0.580067 \n",
            "\n",
            "Epoch 3\n",
            "-------------------------------\n",
            "test loss: \n",
            "Accuracy: 86.3%, avg loss: 0.537908 \n",
            "\n",
            "Epoch 4\n",
            "-------------------------------\n",
            "test loss: \n",
            "Accuracy: 86.9%, avg loss: 0.504713 \n",
            "\n",
            "Epoch 5\n",
            "-------------------------------\n",
            "test loss: \n",
            "Accuracy: 87.5%, avg loss: 0.478011 \n",
            "\n",
            "Epoch 6\n",
            "-------------------------------\n",
            "test loss: \n",
            "Accuracy: 87.9%, avg loss: 0.456145 \n",
            "\n",
            "Epoch 7\n",
            "-------------------------------\n",
            "test loss: \n",
            "Accuracy: 88.3%, avg loss: 0.437963 \n",
            "\n",
            "Epoch 8\n",
            "-------------------------------\n",
            "test loss: \n",
            "Accuracy: 88.5%, avg loss: 0.422644 \n",
            "\n",
            "Epoch 9\n",
            "-------------------------------\n",
            "test loss: \n",
            "Accuracy: 88.7%, avg loss: 0.409579 \n",
            "\n",
            "Epoch 10\n",
            "-------------------------------\n",
            "test loss: \n",
            "Accuracy: 88.9%, avg loss: 0.398316 \n",
            "\n",
            "Epoch 11\n",
            "-------------------------------\n",
            "test loss: \n",
            "Accuracy: 89.2%, avg loss: 0.388499 \n",
            "\n",
            "Epoch 12\n",
            "-------------------------------\n",
            "test loss: \n",
            "Accuracy: 89.2%, avg loss: 0.379858 \n",
            "\n",
            "Epoch 13\n",
            "-------------------------------\n",
            "test loss: \n",
            "Accuracy: 89.3%, avg loss: 0.372188 \n",
            "\n",
            "Epoch 14\n",
            "-------------------------------\n",
            "test loss: \n",
            "Accuracy: 89.5%, avg loss: 0.365318 \n",
            "\n",
            "Epoch 15\n",
            "-------------------------------\n",
            "test loss: \n",
            "Accuracy: 89.6%, avg loss: 0.359107 \n",
            "\n",
            "Epoch 16\n",
            "-------------------------------\n",
            "test loss: \n",
            "Accuracy: 89.8%, avg loss: 0.353460 \n",
            "\n",
            "Epoch 17\n",
            "-------------------------------\n",
            "test loss: \n",
            "Accuracy: 89.9%, avg loss: 0.348282 \n",
            "\n",
            "Epoch 18\n",
            "-------------------------------\n",
            "test loss: \n",
            "Accuracy: 90.1%, avg loss: 0.343501 \n",
            "\n",
            "Epoch 19\n",
            "-------------------------------\n",
            "test loss: \n",
            "Accuracy: 90.2%, avg loss: 0.339062 \n",
            "\n",
            "Epoch 20\n",
            "-------------------------------\n",
            "test loss: \n",
            "Accuracy: 90.3%, avg loss: 0.334922 \n",
            "\n",
            "Epoch 21\n",
            "-------------------------------\n",
            "test loss: \n",
            "Accuracy: 90.3%, avg loss: 0.331044 \n",
            "\n",
            "Epoch 22\n",
            "-------------------------------\n",
            "test loss: \n",
            "Accuracy: 90.4%, avg loss: 0.327398 \n",
            "\n",
            "Epoch 23\n",
            "-------------------------------\n",
            "test loss: \n",
            "Accuracy: 90.5%, avg loss: 0.323955 \n",
            "\n",
            "Epoch 24\n",
            "-------------------------------\n",
            "test loss: \n",
            "Accuracy: 90.6%, avg loss: 0.320693 \n",
            "\n",
            "Epoch 25\n",
            "-------------------------------\n",
            "test loss: \n",
            "Accuracy: 90.6%, avg loss: 0.317604 \n",
            "\n",
            "Epoch 26\n",
            "-------------------------------\n",
            "test loss: \n",
            "Accuracy: 90.8%, avg loss: 0.314653 \n",
            "\n",
            "Epoch 27\n",
            "-------------------------------\n",
            "test loss: \n",
            "Accuracy: 90.9%, avg loss: 0.311845 \n",
            "\n",
            "Epoch 28\n",
            "-------------------------------\n",
            "test loss: \n",
            "Accuracy: 90.9%, avg loss: 0.309156 \n",
            "\n",
            "Epoch 29\n",
            "-------------------------------\n",
            "test loss: \n",
            "Accuracy: 91.0%, avg loss: 0.306566 \n",
            "\n",
            "Epoch 30\n",
            "-------------------------------\n",
            "test loss: \n",
            "Accuracy: 91.1%, avg loss: 0.304076 \n",
            "\n",
            "Epoch 31\n",
            "-------------------------------\n",
            "test loss: \n",
            "Accuracy: 91.1%, avg loss: 0.301679 \n",
            "\n",
            "Epoch 32\n",
            "-------------------------------\n",
            "test loss: \n",
            "Accuracy: 91.2%, avg loss: 0.299359 \n",
            "\n",
            "Epoch 33\n",
            "-------------------------------\n",
            "test loss: \n",
            "Accuracy: 91.3%, avg loss: 0.297097 \n",
            "\n",
            "Epoch 34\n",
            "-------------------------------\n",
            "test loss: \n",
            "Accuracy: 91.4%, avg loss: 0.294902 \n",
            "\n",
            "Epoch 35\n",
            "-------------------------------\n",
            "test loss: \n",
            "Accuracy: 91.4%, avg loss: 0.292774 \n",
            "\n",
            "Epoch 36\n",
            "-------------------------------\n",
            "test loss: \n",
            "Accuracy: 91.6%, avg loss: 0.290703 \n",
            "\n",
            "Epoch 37\n",
            "-------------------------------\n",
            "test loss: \n",
            "Accuracy: 91.6%, avg loss: 0.288686 \n",
            "\n",
            "Epoch 38\n",
            "-------------------------------\n",
            "test loss: \n",
            "Accuracy: 91.8%, avg loss: 0.286715 \n",
            "\n",
            "Epoch 39\n",
            "-------------------------------\n",
            "test loss: \n",
            "Accuracy: 91.8%, avg loss: 0.284792 \n",
            "\n",
            "Epoch 40\n",
            "-------------------------------\n",
            "test loss: \n",
            "Accuracy: 91.9%, avg loss: 0.282907 \n",
            "\n",
            "Epoch 41\n",
            "-------------------------------\n",
            "test loss: \n",
            "Accuracy: 91.9%, avg loss: 0.281066 \n",
            "\n",
            "Epoch 42\n",
            "-------------------------------\n",
            "test loss: \n",
            "Accuracy: 92.0%, avg loss: 0.279259 \n",
            "\n",
            "Epoch 43\n",
            "-------------------------------\n",
            "test loss: \n",
            "Accuracy: 92.0%, avg loss: 0.277487 \n",
            "\n",
            "Epoch 44\n",
            "-------------------------------\n",
            "test loss: \n",
            "Accuracy: 92.0%, avg loss: 0.275741 \n",
            "\n",
            "Epoch 45\n",
            "-------------------------------\n",
            "test loss: \n",
            "Accuracy: 92.1%, avg loss: 0.274020 \n",
            "\n",
            "Epoch 46\n",
            "-------------------------------\n",
            "test loss: \n",
            "Accuracy: 92.1%, avg loss: 0.272336 \n",
            "\n",
            "Epoch 47\n",
            "-------------------------------\n",
            "test loss: \n",
            "Accuracy: 92.1%, avg loss: 0.270671 \n",
            "\n",
            "Epoch 48\n",
            "-------------------------------\n",
            "test loss: \n",
            "Accuracy: 92.2%, avg loss: 0.269039 \n",
            "\n",
            "Epoch 49\n",
            "-------------------------------\n",
            "test loss: \n",
            "Accuracy: 92.2%, avg loss: 0.267427 \n",
            "\n",
            "Epoch 50\n",
            "-------------------------------\n",
            "test loss: \n",
            "Accuracy: 92.2%, avg loss: 0.265850 \n",
            "\n",
            "Elapsed time:  {543.6190927028656}\n",
            "Done!\n"
          ]
        },
        {
          "data": {
            "image/png": "[encoded data removed]",
            "text/plain": [
              "<Figure size 1000x500 with 1 Axes>"
            ]
          },
          "metadata": {},
          "output_type": "display_data"
        }
      ],
      "source": [
        "epochs = 50 # (Try 5, 50 and 100 epoch and record values for average validation loss and accuracy)\n",
        "train_losses = []\n",
        "test_losses = []\n",
        "\n",
        "st = time.time()\n",
        "for t in range(epochs):\n",
        "    print(f\"Epoch {t+1}\\n-------------------------------\")\n",
        "\n",
        "    train_loss = train(train_dataloader, model, loss_fn, optimizer)\n",
        "    train_losses.append(train_loss)\n",
        "\n",
        "    test_loss = test(test_dataloader, model, loss_fn)\n",
        "    test_losses.append(test_loss)\n",
        "\n",
        "et = time.time()\n",
        "elapsed_time = et - st\n",
        "print(\"Elapsed time: \", {elapsed_time})\n",
        "print(\"Done!\")\n",
        "\n",
        "# Plot training and validation losses.\n",
        "plt.figure(figsize=(10,5))\n",
        "plt.title(\"Training and Validation Loss\")\n",
        "plt.plot(test_losses,label=\"validation\")\n",
        "plt.plot(train_losses,label=\"training\")\n",
        "plt.xlabel(\"Epochs\")\n",
        "plt.ylabel(\"Loss\")\n",
        "plt.legend()\n",
        "plt.show()"
      ]
    },
    {
      "cell_type": "code",
      "execution_count": null,
      "metadata": {
        "id": "gEzYYodQsTNB"
      },
      "outputs": [],
      "source": [
        "epochs = 100 # (Try 5, 50 and 100 epoch and record values for average validation loss and accuracy)\n",
        "train_losses = []\n",
        "test_losses = []\n",
        "\n",
        "st = time.time()\n",
        "for t in range(epochs):\n",
        "    print(f\"Epoch {t+1}\\n-------------------------------\")\n",
        "\n",
        "    train_loss = train(train_dataloader, model, loss_fn, optimizer)\n",
        "    train_losses.append(train_loss)\n",
        "\n",
        "    test_loss = test(test_dataloader, model, loss_fn)\n",
        "    test_losses.append(test_loss)\n",
        "\n",
        "et = time.time()\n",
        "elapsed_time = et - st\n",
        "print(\"Elapsed time: \", {elapsed_time})\n",
        "print(\"Done!\")\n",
        "\n",
        "# Plot training and validation losses.\n",
        "plt.figure(figsize=(10,5))\n",
        "plt.title(\"Training and Validation Loss\")\n",
        "plt.plot(test_losses,label=\"validation\")\n",
        "plt.plot(train_losses,label=\"training\")\n",
        "plt.xlabel(\"Epochs\")\n",
        "plt.ylabel(\"Loss\")\n",
        "plt.legend()\n",
        "plt.show()"
      ]
    },
    {
      "cell_type": "code",
      "execution_count": null,
      "metadata": {
        "colab": {
          "base_uri": "https://localhost:8080/"
        },
        "id": "lagrC_tveIKP",
        "outputId": "569a5519-423d-4ae2-9b3a-f2d7b620f72f"
      },
      "outputs": [
        {
          "name": "stdout",
          "output_type": "stream",
          "text": [
            "Saved PyTorch Model State to model.pth\n"
          ]
        }
      ],
      "source": [
        "torch.save(model.state_dict(), \"model.pth\")\n",
        "print(\"Saved PyTorch Model State to model.pth\")"
      ]
    },
    {
      "cell_type": "markdown",
      "metadata": {
        "id": "DgWr6QqdxXQD"
      },
      "source": [
        "Perform Inferrence"
      ]
    },
    {
      "cell_type": "code",
      "execution_count": null,
      "metadata": {
        "colab": {
          "base_uri": "https://localhost:8080/"
        },
        "id": "gzDIvKlaQ3SF",
        "outputId": "56909e36-7c2d-4d78-9eca-31f14df9381e"
      },
      "outputs": [
        {
          "name": "stdout",
          "output_type": "stream",
          "text": [
            "Predicted: \"nine\", Actual: \"nine\"\n"
          ]
        }
      ],
      "source": [
        "classes = [\n",
        "    \"zero\",\n",
        "    \"one\",\n",
        "    \"two\",\n",
        "    \"three\",\n",
        "    \"four\",\n",
        "    \"five\",\n",
        "    \"six\",\n",
        "    \"seven\",\n",
        "    \"eight\",\n",
        "    \"nine\",\n",
        "]\n",
        "#classes = np.array(test_data.class_to_idx.values())\n",
        "#testimg = random.\n",
        "model.eval()\n",
        "x, y = test_data[0][0], test_data[0][1]\n",
        "with torch.no_grad():\n",
        "    pred = model(x.cuda())\n",
        "    predicted, actual = classes[pred[0].argmax(0)], classes[y]\n",
        "    print(f'Predicted: \"{predicted}\", Actual: \"{actual}\"')"
      ]
    },
    {
      "cell_type": "code",
      "execution_count": null,
      "metadata": {
        "colab": {
          "base_uri": "https://localhost:8080/"
        },
        "id": "HVNNXna2AyGe",
        "outputId": "81d5f3e3-36e1-4f2f-f6f7-f431feb86de9"
      },
      "outputs": [
        {
          "name": "stdout",
          "output_type": "stream",
          "text": [
            "Random Value tensor([0.8600])\n"
          ]
        }
      ],
      "source": []
    },
    {
      "cell_type": "markdown",
      "metadata": {
        "id": "YU-8XOYmI9ZB"
      },
      "source": [
        "# Q#3: Repeat all of above steps for Fashion MNIST dataset, apply question1 and 2 and report the accuracies."
      ]
    },
    {
      "cell_type": "code",
      "execution_count": null,
      "metadata": {
        "collapsed": true,
        "id": "QBYupCBlI9ZB"
      },
      "outputs": [],
      "source": [
        "training_data_1 = datasets.FashionMNIST(\n",
        "    root=\"data\",\n",
        "    train=True,\n",
        "    download=True,\n",
        "    transform=ToTensor(),\n",
        ")\n",
        "\n",
        "# Download test data from open datasets.\n",
        "test_data_1 = datasets.FashionMNIST(\n",
        "    root=\"data\",\n",
        "    train=False,\n",
        "    download=True,\n",
        "    transform=ToTensor(),\n",
        ")"
      ]
    },
    {
      "cell_type": "code",
      "execution_count": null,
      "metadata": {
        "colab": {
          "base_uri": "https://localhost:8080/",
          "height": 675
        },
        "id": "44DmdXQqOXD3",
        "outputId": "43af6f8d-fe32-4972-853d-7cb2f2fa2fb4"
      },
      "outputs": [
        {
          "data": {
            "image/png": "[encoded data removed]",
            "text/plain": [
              "<Figure size 800x800 with 9 Axes>"
            ]
          },
          "metadata": {},
          "output_type": "display_data"
        }
      ],
      "source": [
        "labels_map = {\n",
        "    0: \"T-shirt/top\",\n",
        "    1: \"Trouser\",\n",
        "    2: \"Pullover\",\n",
        "    3: \"Dress\",\n",
        "    4: \"Coat\",\n",
        "    5: \"Sandal\",\n",
        "    6: \"Shirt\",\n",
        "    7: \"Sneaker\",\n",
        "    8: \"Bag\",\n",
        "    9: \"Ankle Boot\",\n",
        "}\n",
        "figure = plt.figure(figsize=(8, 8))\n",
        "cols, rows = 3, 3\n",
        "for i in range(1, cols * rows + 1):\n",
        "    sample_idx = torch.randint(len(training_data), size=(1,)).item()  # randomly pick indices from the training data\n",
        "    img, label = training_data[sample_idx]                            # Read the images using their indices.\n",
        "    figure.add_subplot(rows, cols, i)\n",
        "    plt.title(labels_map[label])\n",
        "    plt.axis(\"off\")\n",
        "    plt.imshow(img.squeeze(), cmap=\"gray\")\n",
        "plt.show()"
      ]
    },
    {
      "cell_type": "code",
      "execution_count": null,
      "metadata": {
        "colab": {
          "base_uri": "https://localhost:8080/"
        },
        "id": "eSAde28WPYpa",
        "outputId": "242ab03b-34f0-42fc-8df6-316eec9e0b10"
      },
      "outputs": [
        {
          "name": "stderr",
          "output_type": "stream",
          "text": [
            "/usr/local/lib/python3.10/dist-packages/numpy/core/fromnumeric.py:2007: FutureWarning: The input object of type 'Tensor' is an array-like implementing one of the corresponding protocols (`__array__`, `__array_interface__` or `__array_struct__`); but not a sequence (or 0-D). In the future, this object will be coerced as if it was first converted using `np.array(obj)`. To retain the old behaviour, you have to either modify the type 'Tensor', or assign to an empty array created with `np.empty(correct_shape, dtype=object)`.\n",
            "  result = asarray(a).shape\n",
            "/usr/local/lib/python3.10/dist-packages/numpy/core/fromnumeric.py:2007: VisibleDeprecationWarning: Creating an ndarray from ragged nested sequences (which is a list-or-tuple of lists-or-tuples-or ndarrays with different lengths or shapes) is deprecated. If you meant to do this, you must specify 'dtype=object' when creating the ndarray.\n",
            "  result = asarray(a).shape\n"
          ]
        },
        {
          "name": "stdout",
          "output_type": "stream",
          "text": [
            "Shape of Training Data (60000, 2)\n",
            "Shape of Test Data (10000, 2)\n"
          ]
        }
      ],
      "source": [
        "print ('Shape of Training Data', np.shape(training_data_1))\n",
        "print ('Shape of Test Data', np.shape(test_data_1))"
      ]
    },
    {
      "cell_type": "code",
      "execution_count": null,
      "metadata": {
        "colab": {
          "base_uri": "https://localhost:8080/"
        },
        "id": "cmxCvNlkPirJ",
        "outputId": "09d03d05-00be-4074-e524-f9aeb977a128"
      },
      "outputs": [
        {
          "name": "stdout",
          "output_type": "stream",
          "text": [
            "Shape of X [N, C, H, W]: torch.Size([64, 1, 28, 28])\n",
            "Shape of y: torch.Size([64]) torch.int64\n"
          ]
        }
      ],
      "source": [
        "batch_size = 64\n",
        "\n",
        "# Create data loaders.\n",
        "train_dataloader = DataLoader(training_data, batch_size=batch_size)\n",
        "test_dataloader = DataLoader(test_data, batch_size=batch_size)\n",
        "\n",
        "for X, y in test_dataloader:\n",
        "    print(f\"Shape of X [N, C, H, W]: {X.shape}\")\n",
        "    print(f\"Shape of y: {y.shape} {y.dtype}\")\n",
        "    break"
      ]
    },
    {
      "cell_type": "code",
      "execution_count": null,
      "metadata": {
        "colab": {
          "base_uri": "https://localhost:8080/"
        },
        "id": "80fZwwxcQB2S",
        "outputId": "ae01ca78-36b7-42af-a99c-cf752b80e4d3"
      },
      "outputs": [
        {
          "name": "stdout",
          "output_type": "stream",
          "text": [
            "NeuralNetwork(\n",
            "  (flatten): Flatten(start_dim=1, end_dim=-1)\n",
            "  (linear_relu_stack): Sequential(\n",
            "    (0): Linear(in_features=784, out_features=256, bias=True)\n",
            "    (1): ReLU()\n",
            "    (2): Linear(in_features=256, out_features=256, bias=True)\n",
            "    (3): ReLU()\n",
            "    (4): Linear(in_features=256, out_features=10, bias=True)\n",
            "  )\n",
            ")\n"
          ]
        }
      ],
      "source": [
        "# Define model\n",
        "class NeuralNetwork(nn.Module):\n",
        "    def __init__(self):\n",
        "        super(NeuralNetwork, self).__init__()\n",
        "        self.flatten = nn.Flatten()\n",
        "        self.linear_relu_stack = nn.Sequential(\n",
        "            nn.Linear(28*28, 256),\n",
        "            nn.ReLU(),\n",
        "            nn.Linear(256, 256),\n",
        "            nn.ReLU(),\n",
        "            nn.Linear(256, 10)\n",
        "        )\n",
        "\n",
        "    def forward(self, x):\n",
        "        x = self.flatten(x)\n",
        "        logits = self.linear_relu_stack(x)\n",
        "        return logits\n",
        "\n",
        "model = NeuralNetwork().to(device)\n",
        "print(model)"
      ]
    },
    {
      "cell_type": "code",
      "execution_count": null,
      "metadata": {
        "id": "YOVfyG_PQJa5"
      },
      "outputs": [],
      "source": [
        "loss_fn = nn.CrossEntropyLoss()\n",
        "optimizer = torch.optim.Adam(model.parameters(), lr=1e-3 )"
      ]
    },
    {
      "cell_type": "code",
      "execution_count": null,
      "metadata": {
        "id": "OnXku-RNQURf"
      },
      "outputs": [],
      "source": [
        "def train(dataloader, model, loss_fn, optimizer):\n",
        "    size = len(dataloader.dataset)\n",
        "    model.train()\n",
        "    running_loss = 0                            # accumuate loss of each input sample\n",
        "    for batch, (X, y) in enumerate(dataloader):\n",
        "        X, y = X.to(device), y.to(device)       # assign input samples to the available device (CPU or GPU) for computation.\n",
        "\n",
        "        # Compute prediction error\n",
        "        pred = model(X)\n",
        "        loss = loss_fn(pred, y)\n",
        "\n",
        "        # Backpropagation\n",
        "        optimizer.zero_grad()                   # set the gradients to zero to avoid gradient accumuation. Gradient Accumulation is useful in some cases, like in training RNN.\n",
        "        loss.backward()\n",
        "        optimizer.step()\n",
        "        running_loss += loss.item()\n",
        "        if batch % 100 == 0:\n",
        "            loss, current = loss.item(), batch * len(X)\n",
        "            #print(f\"training loss: {loss:>7f}  [{current:>5d}/{size:>5d}]\")\n",
        "\n",
        "    return running_loss/len(dataloader)"
      ]
    },
    {
      "cell_type": "code",
      "execution_count": null,
      "metadata": {
        "id": "qFhKcL_KQh20"
      },
      "outputs": [],
      "source": [
        "def test(dataloader, model, loss_fn):\n",
        "    size = len(dataloader.dataset)\n",
        "    num_batches = len(dataloader)\n",
        "    model.eval()\n",
        "    test_loss, correct = 0, 0\n",
        "    with torch.no_grad():         # No gradients need to be calculated for evaluation. Just the forward pass.\n",
        "        for X, y in dataloader:\n",
        "            X, y = X.to(device), y.to(device)\n",
        "            pred = model(X)\n",
        "            test_loss += loss_fn(pred, y).item()\n",
        "            correct += (pred.argmax(1) == y).type(torch.float).sum().item()\n",
        "    test_loss /= num_batches\n",
        "    correct /= size               # Normalise correctly classified count.\n",
        "    print(f\"test loss: \\nAccuracy: {(100*correct):>0.1f}%, avg loss: {test_loss:>8f} \\n\")\n",
        "\n",
        "    return test_loss"
      ]
    },
    {
      "cell_type": "code",
      "execution_count": null,
      "metadata": {
        "colab": {
          "base_uri": "https://localhost:8080/",
          "height": 1000
        },
        "id": "aTauRJ0HQ4r0",
        "outputId": "f24e3199-ce1e-4284-a802-6dc159f61370"
      },
      "outputs": [
        {
          "name": "stdout",
          "output_type": "stream",
          "text": [
            "Epoch 1\n",
            "-------------------------------\n",
            "test loss: \n",
            "Accuracy: 87.1%, avg loss: 0.358513 \n",
            "\n",
            "Epoch 2\n",
            "-------------------------------\n",
            "test loss: \n",
            "Accuracy: 87.1%, avg loss: 0.363139 \n",
            "\n",
            "Epoch 3\n",
            "-------------------------------\n",
            "test loss: \n",
            "Accuracy: 87.5%, avg loss: 0.364948 \n",
            "\n",
            "Epoch 4\n",
            "-------------------------------\n",
            "test loss: \n",
            "Accuracy: 87.2%, avg loss: 0.376114 \n",
            "\n",
            "Epoch 5\n",
            "-------------------------------\n",
            "test loss: \n",
            "Accuracy: 87.3%, avg loss: 0.371253 \n",
            "\n",
            "Epoch 6\n",
            "-------------------------------\n",
            "test loss: \n",
            "Accuracy: 87.4%, avg loss: 0.382855 \n",
            "\n",
            "Epoch 7\n",
            "-------------------------------\n",
            "test loss: \n",
            "Accuracy: 87.8%, avg loss: 0.379778 \n",
            "\n",
            "Epoch 8\n",
            "-------------------------------\n",
            "test loss: \n",
            "Accuracy: 87.8%, avg loss: 0.388875 \n",
            "\n",
            "Epoch 9\n",
            "-------------------------------\n",
            "test loss: \n",
            "Accuracy: 88.3%, avg loss: 0.381780 \n",
            "\n",
            "Epoch 10\n",
            "-------------------------------\n",
            "test loss: \n",
            "Accuracy: 88.0%, avg loss: 0.388939 \n",
            "\n",
            "Done!\n"
          ]
        },
        {
          "data": {
            "image/png": "[encoded data removed]",
            "text/plain": [
              "<Figure size 1000x500 with 1 Axes>"
            ]
          },
          "metadata": {},
          "output_type": "display_data"
        }
      ],
      "source": [
        "epochs = 10 # (Try 5, 10 and 50 epoch and record values for average validation loss and accuracy)\n",
        "train_losses = []\n",
        "test_losses = []\n",
        "\n",
        "for t in range(epochs):\n",
        "    print(f\"Epoch {t+1}\\n-------------------------------\")\n",
        "\n",
        "    train_loss = train(train_dataloader, model, loss_fn, optimizer)\n",
        "    train_losses.append(train_loss)\n",
        "\n",
        "    test_loss = test(test_dataloader, model, loss_fn)\n",
        "    test_losses.append(test_loss)\n",
        "\n",
        "print(\"Done!\")\n",
        "\n",
        "# Plot training and validation losses.\n",
        "plt.figure(figsize=(10,5))\n",
        "plt.title(\"Training and Validation Loss\")\n",
        "plt.plot(test_losses,label=\"validation\")\n",
        "plt.plot(train_losses,label=\"training\")\n",
        "plt.xlabel(\"Epochs\")\n",
        "plt.ylabel(\"Loss\")\n",
        "plt.legend()\n",
        "plt.show()"
      ]
    },
    {
      "cell_type": "code",
      "execution_count": null,
      "metadata": {
        "colab": {
          "base_uri": "https://localhost:8080/"
        },
        "id": "eWvGVictR0iS",
        "outputId": "31291b61-2aee-41a7-c819-189bfb26b2e4"
      },
      "outputs": [
        {
          "name": "stdout",
          "output_type": "stream",
          "text": [
            "Saved PyTorch Model State to model.pth1\n"
          ]
        }
      ],
      "source": [
        "torch.save(model.state_dict(), \"model.pth1\")\n",
        "print(\"Saved PyTorch Model State to model.pth1\")"
      ]
    },
    {
      "cell_type": "code",
      "execution_count": null,
      "metadata": {
        "colab": {
          "base_uri": "https://localhost:8080/"
        },
        "id": "4xxINhKwR3XP",
        "outputId": "e9318e30-6ea5-440a-9113-9110af3ce079"
      },
      "outputs": [
        {
          "name": "stdout",
          "output_type": "stream",
          "text": [
            "Predicted: \"Ankle Boot\", Actual: \"Ankle Boot\"\n"
          ]
        }
      ],
      "source": [
        "classes = [\n",
        "    \"T-shirt/Top\",\n",
        "    \"Trouser\",\n",
        "    \"Pullover\",\n",
        "    \"Dress\",\n",
        "    \"Coat\",\n",
        "    \"Sandal\",\n",
        "    \"Shirt\",\n",
        "    \"Sneaker\",\n",
        "    \"Bag\",\n",
        "    \"Ankle Boot\",\n",
        "]\n",
        "#classes = np.array(test_data.class_to_idx.values())\n",
        "#testimg = random.\n",
        "model.eval()\n",
        "x, y = test_data[0][0], test_data[0][1]\n",
        "with torch.no_grad():\n",
        "    pred = model(x.cuda())\n",
        "    predicted, actual = classes[pred[0].argmax(0)], classes[y]\n",
        "    print(f'Predicted: \"{predicted}\", Actual: \"{actual}\"')"
      ]
    }
  ],
  "metadata": {
    "accelerator": "GPU",
    "colab": {
      "provenance": []
    },
    "kernelspec": {
      "display_name": "Python 3",
      "language": "python",
      "name": "python3"
    },
    "language_info": {
      "codemirror_mode": {
        "name": "ipython",
        "version": 3
      },
      "file_extension": ".py",
      "mimetype": "text/x-python",
      "name": "python",
      "nbconvert_exporter": "python",
      "pygments_lexer": "ipython3",
      "version": "3.6.2"
    }
  },
  "nbformat": 4,
  "nbformat_minor": 0
}
